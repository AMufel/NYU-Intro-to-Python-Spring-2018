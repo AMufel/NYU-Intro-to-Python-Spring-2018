my_movies = {'The Saint', '5th Element', 'Ace Ventura', 'Forrest Gump'}

friends_movies = {'Independence Day', 'Ferris Bueler's Day Off', 'Major League', 'The Rock', 'Forrest Gump'}

def common(my_movies, friends_movies):
if len(my_movies & friends_movies) > 0
    print('These are the movies in common')
for movies in (my_movies & friends_movies):
    print(movie)
else:
    print('There are no movies in common')